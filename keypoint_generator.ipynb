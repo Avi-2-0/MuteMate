{
 "cells": [
  {
   "cell_type": "code",
   "execution_count": 1,
   "id": "cfc1b995-ec10-4821-8cb0-5ac7b4eba73f",
   "metadata": {},
   "outputs": [],
   "source": [
    "import cv2\n",
    "import mediapipe as mp\n",
    "import csv\n",
    "import copy\n",
    "import itertools\n",
    "import string"
   ]
  },
  {
   "cell_type": "code",
   "execution_count": 2,
   "id": "4805f2f0-a235-44f1-a839-b9c1debc8e7f",
   "metadata": {},
   "outputs": [],
   "source": [
    "mp_draw = mp.solutions.drawing_utils\n",
    "mp_styles = mp.solutions.drawing_styles\n",
    "mp_hand_detection = mp.solutions.hands"
   ]
  },
  {
   "cell_type": "code",
   "execution_count": 3,
   "id": "f7942735-184c-45ac-9026-750fcfda3252",
   "metadata": {},
   "outputs": [],
   "source": [
    "def extract_keypoints(img, hand_landmarks):\n",
    "    width, height = img.shape[1], img.shape[0]\n",
    "    keypoints = []\n",
    "\n",
    "    for _, landmark in enumerate(hand_landmarks.landmark):\n",
    "        x_pos = min(int(landmark.x * width), width - 1)\n",
    "        y_pos = min(int(landmark.y * height), height - 1)\n",
    "        keypoints.append([x_pos, y_pos])\n",
    "\n",
    "    return keypoints"
   ]
  },
  {
   "cell_type": "code",
   "execution_count": 4,
   "id": "e505f04a-4db7-411b-81f3-4a714e7e61ec",
   "metadata": {},
   "outputs": [],
   "source": [
    "def normalize_keypoints(keypoints):\n",
    "    copied_keypoints = copy.deepcopy(keypoints)\n",
    "\n",
    "    base_x, base_y = 0, 0\n",
    "    for i, point in enumerate(copied_keypoints):\n",
    "        if i == 0:\n",
    "            base_x, base_y = point[0], point[1]\n",
    "        copied_keypoints[i][0] -= base_x\n",
    "        copied_keypoints[i][1] -= base_y\n",
    "\n",
    "    flattened_keypoints = list(itertools.chain.from_iterable(copied_keypoints))\n",
    "    max_value = max(map(abs, flattened_keypoints))\n",
    "\n",
    "    normalized_keypoints = [value / max_value for value in flattened_keypoints]\n",
    "\n",
    "    return normalized_keypoints"
   ]
  },
  {
   "cell_type": "code",
   "execution_count": 5,
   "id": "02666228-a3e9-4914-a075-48896ea19138",
   "metadata": {},
   "outputs": [],
   "source": [
    "def write_keypoints_to_csv(label, keypoints):\n",
    "    csv_file = 'hand_keypoints.csv'\n",
    "    with open(csv_file, 'a', newline=\"\") as file:\n",
    "        writer = csv.writer(file)\n",
    "        writer.writerow([label] + keypoints)"
   ]
  },
  {
   "cell_type": "code",
   "execution_count": 6,
   "id": "00a7b203-2f59-4a1c-8ee7-958fba9e9949",
   "metadata": {},
   "outputs": [],
   "source": [
    "gestures =  [str(i) for i in range(1, 10)] + list(string.ascii_uppercase)"
   ]
  },
  {
   "cell_type": "code",
   "execution_count": 7,
   "id": "e8b39a09-f96b-4cec-a931-ad7adf3a27e1",
   "metadata": {},
   "outputs": [],
   "source": [
    "img_folder = 'Indian/'\n",
    "image_paths = [f'{img_folder}{gesture}/{num}.jpg' for gesture in gestures for num in range(1199)]"
   ]
  },
  {
   "cell_type": "code",
   "execution_count": 8,
   "id": "9cdaf3d2-c20d-4d19-8a5c-1beefc18b55e",
   "metadata": {},
   "outputs": [
    {
     "name": "stderr",
     "output_type": "stream",
     "text": [
      "C:\\Users\\91993\\Desktop\\ML ITER SELF LEARN\\rnn\\Lib\\site-packages\\google\\protobuf\\symbol_database.py:55: UserWarning: SymbolDatabase.GetPrototype() is deprecated. Please use message_factory.GetMessageClass() instead. SymbolDatabase.GetPrototype() will be removed soon.\n",
      "  warnings.warn('SymbolDatabase.GetPrototype() is deprecated. Please '\n",
      "\n",
      "KeyboardInterrupt\n",
      "\n"
     ]
    }
   ],
   "source": [
    "with mp_hand_detection.Hands(\n",
    "    static_image_mode=True,\n",
    "    max_num_hands=2,\n",
    "    min_detection_confidence=0.5) as hand_tracker:\n",
    "  \n",
    "    for img_index, img_path in enumerate(image_paths):\n",
    "        img = cv2.flip(cv2.imread(img_path), 1)\n",
    "        results = hand_tracker.process(cv2.cvtColor(img, cv2.COLOR_BGR2RGB))\n",
    "\n",
    "        if not results.multi_hand_landmarks:\n",
    "            continue\n",
    "        \n",
    "        for hand_landmarks in results.multi_hand_landmarks:\n",
    "            keypoints = extract_keypoints(img, hand_landmarks)\n",
    "            normalized_keypoints = normalize_keypoints(keypoints)\n",
    "            write_keypoints_to_csv(img_path.split('/')[-2], normalized_keypoints)"
   ]
  }
 ],
 "metadata": {
  "kernelspec": {
   "display_name": "rnn",
   "language": "python",
   "name": "rnn"
  },
  "language_info": {
   "codemirror_mode": {
    "name": "ipython",
    "version": 3
   },
   "file_extension": ".py",
   "mimetype": "text/x-python",
   "name": "python",
   "nbconvert_exporter": "python",
   "pygments_lexer": "ipython3",
   "version": "3.11.5"
  }
 },
 "nbformat": 4,
 "nbformat_minor": 5
}
