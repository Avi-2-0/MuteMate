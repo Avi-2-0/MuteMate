{
 "cells": [
  {
   "cell_type": "code",
   "execution_count": 1,
   "id": "cbbd1391-b8dc-4e73-ba15-11047b245267",
   "metadata": {},
   "outputs": [],
   "source": [
    "##!pip install pyttsx3"
   ]
  },
  {
   "cell_type": "code",
   "execution_count": 2,
   "id": "4b7909e6-ed8b-472b-8529-17dcbd33cdbf",
   "metadata": {},
   "outputs": [],
   "source": [
    "import pyttsx3"
   ]
  },
  {
   "cell_type": "code",
   "execution_count": 3,
   "id": "840b919b-8af9-4648-808a-78dd7f96ed80",
   "metadata": {},
   "outputs": [
    {
     "name": "stdin",
     "output_type": "stream",
     "text": [
      "Write the Text:  my sister is dumb\n"
     ]
    }
   ],
   "source": [
    "text_speech = pyttsx3.init()\n",
    "answer = input(\"Write the Text: \")\n",
    "\n",
    "text_speech.say(answer)\n",
    "text_speech.runAndWait()\n",
    "\n"
   ]
  },
  {
   "cell_type": "code",
   "execution_count": null,
   "id": "968fd6af-adc8-4b10-9692-859d7c0316d3",
   "metadata": {},
   "outputs": [],
   "source": []
  }
 ],
 "metadata": {
  "kernelspec": {
   "display_name": "Python 3 (ipykernel)",
   "language": "python",
   "name": "python3"
  },
  "language_info": {
   "codemirror_mode": {
    "name": "ipython",
    "version": 3
   },
   "file_extension": ".py",
   "mimetype": "text/x-python",
   "name": "python",
   "nbconvert_exporter": "python",
   "pygments_lexer": "ipython3",
   "version": "3.11.7"
  }
 },
 "nbformat": 4,
 "nbformat_minor": 5
}
