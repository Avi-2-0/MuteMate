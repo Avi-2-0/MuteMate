{
 "cells": [
  {
   "cell_type": "code",
   "execution_count": 1,
   "id": "3cbb75e6-05cb-4f68-bef7-ffb49a84d6bc",
   "metadata": {},
   "outputs": [],
   "source": [
    "#// for ffmpeg installation run given codes in cmd //\n",
    "#winget install ffmpeg\n",
    "#// add ffmpeg to path //\n",
    "#setx /M PATH \"%PATH%;C:\\ffmpeg\\bin\"\n",
    "# FFmpeg is a powerful multimedia framework that can decode, encode, transcode, stream, filter, and play almost anything that humans and machines have\n",
    "# created in terms of audio and video format.\n",
    "# system PATH allows you to run FFmpeg commands from any directory in the command prompt without needing to specify the full path"
   ]
  },
  {
   "cell_type": "code",
   "execution_count": null,
   "id": "426fd358",
   "metadata": {},
   "outputs": [],
   "source": [
    "# pip install ffmpeg"
   ]
  },
  {
   "cell_type": "code",
   "execution_count": null,
   "id": "39a744cc",
   "metadata": {},
   "outputs": [],
   "source": [
    "import os\n",
    "import subprocess\n",
    "\n",
    "# Function to convert video to MP4 format\n",
    "def convert_to_mp4(file_path, output_dir):\n",
    "    output_file_path = os.path.join(output_dir, os.path.splitext(os.path.basename(file_path))[0] + '.mp4')\n",
    "    \n",
    "    command = [\n",
    "        r'C:\\Users\\HP\\AppData\\Local\\Microsoft\\WinGet\\Links\\ffmpeg.exe', \n",
    "        '-i', file_path, \n",
    "        '-codec:v', 'libx264', \n",
    "        '-codec:a', 'aac', \n",
    "        output_file_path\n",
    "    ]\n",
    "    \n",
    "    try:\n",
    "        subprocess.run(command, check=True, stdout=subprocess.PIPE, stderr=subprocess.PIPE)\n",
    "        return output_file_path\n",
    "    except subprocess.CalledProcessError as e:\n",
    "        print(f\"Error converting file {file_path}: {e}\")\n",
    "        return None"
   ]
  },
  {
   "cell_type": "code",
   "execution_count": null,
   "id": "8e688b35",
   "metadata": {},
   "outputs": [],
   "source": [
    "# Function convert all video files in directory to MP4\n",
    "def convert_all_videos_in_directory(directory_path):\n",
    "    # Ensure the directory exists\n",
    "    if not os.path.isdir(directory_path):\n",
    "        print(f\"The directory {directory_path} does not exist.\")\n",
    "        return\n",
    "    \n",
    "    # Traversing through directories\n",
    "    for root, dirs, files in os.walk(directory_path):\n",
    "        for file_name in files:\n",
    "            file_path = os.path.join(root, file_name)\n",
    "            \n",
    "            # Checking for video file \n",
    "            if file_name.lower().endswith(('.avi', '.mov', '.mkv', '.flv', '.wmv', '.webm')):\n",
    "                print(f\"Processing file: {file_path}\")\n",
    "                \n",
    "                output_file = convert_to_mp4(file_path, root)\n",
    "                \n",
    "                # Checking for success\n",
    "                if output_file and os.path.exists(output_file):\n",
    "                    print(f\"Successfully converted {file_path} to {output_file}. Deleting original file.\")\n",
    "                    os.remove(file_path)\n",
    "                else:\n",
    "                    print(f\"Failed to convert {file_path}. Original file kept.\")\n",
    "\n",
    "directory_path = input(\"Enter the path of the directory containing video files: \")\n",
    "\n",
    "convert_all_videos_in_directory(directory_path)"
   ]
  }
 ],
 "metadata": {
  "kernelspec": {
   "display_name": "Python 3 (ipykernel)",
   "language": "python",
   "name": "python3"
  },
  "language_info": {
   "codemirror_mode": {
    "name": "ipython",
    "version": 3
   },
   "file_extension": ".py",
   "mimetype": "text/x-python",
   "name": "python",
   "nbconvert_exporter": "python",
   "pygments_lexer": "ipython3",
   "version": "3.11.5"
  }
 },
 "nbformat": 4,
 "nbformat_minor": 5
}
