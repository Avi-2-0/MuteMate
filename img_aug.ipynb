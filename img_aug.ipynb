{
 "cells": [
  {
   "cell_type": "code",
   "execution_count": 4,
   "id": "394adc10-2c70-4ea3-a40c-e62283f6ee85",
   "metadata": {},
   "outputs": [],
   "source": [
    "\n",
    "\n",
    "import os\n",
    "from tensorflow.keras.preprocessing import image\n",
    "from tensorflow.keras.preprocessing.image import ImageDataGenerator\n",
    "\n",
    "parent_dir = r'C:\\Users\\91977\\Desktop\\SIH\\code\\data010'  \n",
    "\n",
    "# Data augmentation\n",
    "datagen = ImageDataGenerator(\n",
    "    rotation_range=40,\n",
    "    shear_range=0.2,\n",
    "    zoom_range=0.2,\n",
    "    horizontal_flip=True,\n",
    "    width_shift_range=0.2,\n",
    "    height_shift_range=0.2,\n",
    ")\n",
    "\n",
    "# Loop through each subfolder \n",
    "for subdir, dirs, files in os.walk(parent_dir):\n",
    "    for file_name in files:\n",
    "        if file_name.lower().endswith(('.jpg', '.jpeg', '.png')):  \n",
    "            img_path = os.path.join(subdir, file_name)\n",
    "            \n",
    "            # Load and preprocess the image\n",
    "            img = image.load_img(img_path, target_size=(200, 100))\n",
    "            img_array = image.img_to_array(img)\n",
    "            img_batch = img_array.reshape(1, 200, 100, 3)\n",
    "            \n",
    "            \n",
    "            output_dir = subdir\n",
    "            \n",
    "            # Generate augmented images and save\n",
    "            for i, output in enumerate(datagen.flow(img_batch, batch_size=1, save_to_dir=output_dir, save_prefix=file_name.split('.')[0], save_format='jpg')):\n",
    "                if i == 5:  # Generate up to 100 augmented images per input image\n",
    "                    break"
   ]
  },
  {
   "cell_type": "code",
   "execution_count": null,
   "id": "63209d53-c5d4-48e9-882b-0f041def6587",
   "metadata": {},
   "outputs": [],
   "source": []
  }
 ],
 "metadata": {
  "kernelspec": {
   "display_name": "Python 3 (ipykernel)",
   "language": "python",
   "name": "python3"
  },
  "language_info": {
   "codemirror_mode": {
    "name": "ipython",
    "version": 3
   },
   "file_extension": ".py",
   "mimetype": "text/x-python",
   "name": "python",
   "nbconvert_exporter": "python",
   "pygments_lexer": "ipython3",
   "version": "3.11.5"
  }
 },
 "nbformat": 4,
 "nbformat_minor": 5
}
