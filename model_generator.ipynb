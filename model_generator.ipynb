{
 "cells": [
  {
   "cell_type": "code",
   "execution_count": 1,
   "id": "a2c7fce4-5c00-4bf6-85dc-d2f7ac6c85dd",
   "metadata": {},
   "outputs": [],
   "source": [
    "import pandas as pd\n",
    "import numpy as np\n",
    "import matplotlib.pyplot as plt\n",
    "import tensorflow as tf\n",
    "from tensorflow import keras\n",
    "from tensorflow.keras import layers\n",
    "from sklearn.model_selection import train_test_split\n",
    "from sklearn.preprocessing import LabelEncoder\n",
    "from sklearn.metrics import accuracy_score, precision_score, recall_score, f1_score\n"
   ]
  },
  {
   "cell_type": "code",
   "execution_count": 2,
   "id": "423d9a42-3287-4b45-8073-e66f8a250386",
   "metadata": {},
   "outputs": [
    {
     "name": "stderr",
     "output_type": "stream",
     "text": [
      "C:\\Users\\91977\\AppData\\Local\\Temp\\ipykernel_13192\\1062197483.py:1: DtypeWarning: Columns (0) have mixed types. Specify dtype option on import or set low_memory=False.\n",
      "  df = pd.read_csv('hand_keypoints.csv', header=None)\n"
     ]
    }
   ],
   "source": [
    "df = pd.read_csv('hand_keypoints.csv', header=None)\n",
    "df[0] = df[0].astype(str)\n",
    "unique_labels = df[0].unique()\n"
   ]
  },
  {
   "cell_type": "code",
   "execution_count": 3,
   "id": "acb165ba-e3e6-42bc-8f99-9ad6bfda28c4",
   "metadata": {},
   "outputs": [],
   "source": [
    "features = df.iloc[:, 1:]\n",
    "labels = df[[0]]\n"
   ]
  },
  {
   "cell_type": "code",
   "execution_count": 4,
   "id": "c08990c0-332d-4063-b742-38e6bbd54b6a",
   "metadata": {},
   "outputs": [
    {
     "name": "stderr",
     "output_type": "stream",
     "text": [
      "C:\\Users\\91977\\anaconda3\\Lib\\site-packages\\sklearn\\preprocessing\\_label.py:114: DataConversionWarning: A column-vector y was passed when a 1d array was expected. Please change the shape of y to (n_samples, ), for example using ravel().\n",
      "  y = column_or_1d(y, warn=True)\n"
     ]
    }
   ],
   "source": [
    "label_encoder = LabelEncoder()\n",
    "encoded_labels = label_encoder.fit_transform(labels)\n"
   ]
  },
  {
   "cell_type": "code",
   "execution_count": 5,
   "id": "48fcbfba-1d01-4a8c-a348-c2bd31675d10",
   "metadata": {},
   "outputs": [],
   "source": [
    "early_stopping = keras.callbacks.EarlyStopping(\n",
    "    monitor='val_loss', mode='min', verbose=1, patience=2)\n"
   ]
  },
  {
   "cell_type": "code",
   "execution_count": 6,
   "id": "d90a624c-a388-437e-89ef-cbe4aaac3bb2",
   "metadata": {},
   "outputs": [],
   "source": [
    "X_train, X_val, y_train, y_val = train_test_split(\n",
    "    features, encoded_labels, test_size=0.2, random_state=42)\n"
   ]
  },
  {
   "cell_type": "code",
   "execution_count": 7,
   "id": "4c6c021d-472a-40a9-84ff-a9932c50b978",
   "metadata": {},
   "outputs": [],
   "source": [
    "model = keras.Sequential([\n",
    "    layers.Dense(1470, activation='relu'),\n",
    "    layers.Dropout(0.5),\n",
    "    layers.Dense(832, activation='relu'),\n",
    "    layers.Dropout(0.5),\n",
    "    layers.Dense(428, activation='relu'),\n",
    "    layers.Dropout(0.5),\n",
    "    layers.Dense(264, activation='relu'),\n",
    "    layers.Dropout(0.5),\n",
    "    layers.Dense(35, activation='softmax')\n",
    "])\n"
   ]
  },
  {
   "cell_type": "code",
   "execution_count": 8,
   "id": "faa1fd04-e82b-41c3-8beb-3281311a1786",
   "metadata": {},
   "outputs": [],
   "source": [
    "model.compile(\n",
    "    loss=\"sparse_categorical_crossentropy\",\n",
    "    optimizer=\"adam\",\n",
    "    metrics=[\"accuracy\"]\n",
    ")\n"
   ]
  },
  {
   "cell_type": "code",
   "execution_count": 9,
   "id": "0f4e20ba-8453-4532-b865-f6cfb8a24791",
   "metadata": {},
   "outputs": [
    {
     "name": "stdout",
     "output_type": "stream",
     "text": [
      "Epoch 1/50\n",
      "\u001b[1m289/289\u001b[0m \u001b[32m━━━━━━━━━━━━━━━━━━━━\u001b[0m\u001b[37m\u001b[0m \u001b[1m13s\u001b[0m 41ms/step - accuracy: 0.3759 - loss: 2.1186 - val_accuracy: 0.9575 - val_loss: 0.1124\n",
      "Epoch 2/50\n",
      "\u001b[1m289/289\u001b[0m \u001b[32m━━━━━━━━━━━━━━━━━━━━\u001b[0m\u001b[37m\u001b[0m \u001b[1m12s\u001b[0m 41ms/step - accuracy: 0.9172 - loss: 0.2403 - val_accuracy: 0.9830 - val_loss: 0.0554\n",
      "Epoch 3/50\n",
      "\u001b[1m289/289\u001b[0m \u001b[32m━━━━━━━━━━━━━━━━━━━━\u001b[0m\u001b[37m\u001b[0m \u001b[1m20s\u001b[0m 38ms/step - accuracy: 0.9483 - loss: 0.1531 - val_accuracy: 0.9905 - val_loss: 0.0329\n",
      "Epoch 4/50\n",
      "\u001b[1m289/289\u001b[0m \u001b[32m━━━━━━━━━━━━━━━━━━━━\u001b[0m\u001b[37m\u001b[0m \u001b[1m11s\u001b[0m 40ms/step - accuracy: 0.9643 - loss: 0.1022 - val_accuracy: 0.9925 - val_loss: 0.0325\n",
      "Epoch 5/50\n",
      "\u001b[1m289/289\u001b[0m \u001b[32m━━━━━━━━━━━━━━━━━━━━\u001b[0m\u001b[37m\u001b[0m \u001b[1m11s\u001b[0m 39ms/step - accuracy: 0.9704 - loss: 0.0892 - val_accuracy: 0.9861 - val_loss: 0.0339\n",
      "Epoch 6/50\n",
      "\u001b[1m289/289\u001b[0m \u001b[32m━━━━━━━━━━━━━━━━━━━━\u001b[0m\u001b[37m\u001b[0m \u001b[1m21s\u001b[0m 40ms/step - accuracy: 0.9709 - loss: 0.0923 - val_accuracy: 0.9932 - val_loss: 0.0279\n",
      "Epoch 7/50\n",
      "\u001b[1m289/289\u001b[0m \u001b[32m━━━━━━━━━━━━━━━━━━━━\u001b[0m\u001b[37m\u001b[0m \u001b[1m12s\u001b[0m 40ms/step - accuracy: 0.9783 - loss: 0.0713 - val_accuracy: 0.9868 - val_loss: 0.0312\n",
      "Epoch 8/50\n",
      "\u001b[1m289/289\u001b[0m \u001b[32m━━━━━━━━━━━━━━━━━━━━\u001b[0m\u001b[37m\u001b[0m \u001b[1m12s\u001b[0m 41ms/step - accuracy: 0.9760 - loss: 0.0659 - val_accuracy: 0.9915 - val_loss: 0.0273\n",
      "Epoch 9/50\n",
      "\u001b[1m289/289\u001b[0m \u001b[32m━━━━━━━━━━━━━━━━━━━━\u001b[0m\u001b[37m\u001b[0m \u001b[1m20s\u001b[0m 40ms/step - accuracy: 0.9802 - loss: 0.0594 - val_accuracy: 0.9933 - val_loss: 0.0232\n",
      "Epoch 10/50\n",
      "\u001b[1m289/289\u001b[0m \u001b[32m━━━━━━━━━━━━━━━━━━━━\u001b[0m\u001b[37m\u001b[0m \u001b[1m20s\u001b[0m 40ms/step - accuracy: 0.9805 - loss: 0.0582 - val_accuracy: 0.9947 - val_loss: 0.0208\n",
      "Epoch 11/50\n",
      "\u001b[1m289/289\u001b[0m \u001b[32m━━━━━━━━━━━━━━━━━━━━\u001b[0m\u001b[37m\u001b[0m \u001b[1m12s\u001b[0m 40ms/step - accuracy: 0.9817 - loss: 0.0549 - val_accuracy: 0.9913 - val_loss: 0.0251\n",
      "Epoch 12/50\n",
      "\u001b[1m289/289\u001b[0m \u001b[32m━━━━━━━━━━━━━━━━━━━━\u001b[0m\u001b[37m\u001b[0m \u001b[1m21s\u001b[0m 40ms/step - accuracy: 0.9801 - loss: 0.0660 - val_accuracy: 0.9935 - val_loss: 0.0194\n",
      "Epoch 13/50\n",
      "\u001b[1m289/289\u001b[0m \u001b[32m━━━━━━━━━━━━━━━━━━━━\u001b[0m\u001b[37m\u001b[0m \u001b[1m12s\u001b[0m 40ms/step - accuracy: 0.9822 - loss: 0.0596 - val_accuracy: 0.9922 - val_loss: 0.0295\n",
      "Epoch 14/50\n",
      "\u001b[1m289/289\u001b[0m \u001b[32m━━━━━━━━━━━━━━━━━━━━\u001b[0m\u001b[37m\u001b[0m \u001b[1m12s\u001b[0m 40ms/step - accuracy: 0.9834 - loss: 0.0504 - val_accuracy: 0.9953 - val_loss: 0.0164\n",
      "Epoch 15/50\n",
      "\u001b[1m289/289\u001b[0m \u001b[32m━━━━━━━━━━━━━━━━━━━━\u001b[0m\u001b[37m\u001b[0m \u001b[1m21s\u001b[0m 40ms/step - accuracy: 0.9859 - loss: 0.0444 - val_accuracy: 0.9906 - val_loss: 0.0275\n",
      "Epoch 16/50\n",
      "\u001b[1m289/289\u001b[0m \u001b[32m━━━━━━━━━━━━━━━━━━━━\u001b[0m\u001b[37m\u001b[0m \u001b[1m21s\u001b[0m 40ms/step - accuracy: 0.9835 - loss: 0.0532 - val_accuracy: 0.9957 - val_loss: 0.0202\n",
      "Epoch 16: early stopping\n"
     ]
    },
    {
     "data": {
      "text/plain": [
       "<keras.src.callbacks.history.History at 0x2552cada000>"
      ]
     },
     "execution_count": 9,
     "metadata": {},
     "output_type": "execute_result"
    }
   ],
   "source": [
    "model.fit(\n",
    "    X_train, y_train,\n",
    "    epochs=50,\n",
    "    batch_size=128,\n",
    "    validation_split=0.2,\n",
    "    callbacks=[early_stopping]\n",
    ")\n"
   ]
  },
  {
   "cell_type": "code",
   "execution_count": 10,
   "id": "ff0b83d3-cb14-42a1-88cb-941302ccefd9",
   "metadata": {},
   "outputs": [],
   "source": [
    "test_loss, test_accuracy = model.evaluate(X_val, y_val, verbose=0)\n"
   ]
  },
  {
   "cell_type": "code",
   "execution_count": 11,
   "id": "a3412364-d7e2-4c43-8e7d-e8c98cc7d346",
   "metadata": {},
   "outputs": [
    {
     "name": "stdout",
     "output_type": "stream",
     "text": [
      "\u001b[1m361/361\u001b[0m \u001b[32m━━━━━━━━━━━━━━━━━━━━\u001b[0m\u001b[37m\u001b[0m \u001b[1m2s\u001b[0m 6ms/step\n"
     ]
    }
   ],
   "source": [
    "predictions = model.predict(X_val)\n",
    "predicted_classes = np.argmax(predictions, axis=1)\n"
   ]
  },
  {
   "cell_type": "code",
   "execution_count": 12,
   "id": "d1ee9a1a-fba4-48e8-b8fe-55c220fd5c83",
   "metadata": {},
   "outputs": [],
   "source": [
    "accuracy = accuracy_score(y_val, predicted_classes)\n",
    "precision = precision_score(y_val, predicted_classes, average='macro')\n",
    "recall = recall_score(y_val, predicted_classes, average='macro')\n",
    "f1 = f1_score(y_val, predicted_classes, average='macro')\n"
   ]
  },
  {
   "cell_type": "code",
   "execution_count": 13,
   "id": "83705c6b-df28-4de5-a8ab-477ea4f3877e",
   "metadata": {},
   "outputs": [
    {
     "name": "stdout",
     "output_type": "stream",
     "text": [
      "Test Accuracy: 0.9936648442245943\n",
      "Test Precision: 0.9951280455681625\n",
      "Test Recall: 0.9919297595231754\n",
      "Test F1-Score: 0.9932907002271731\n"
     ]
    }
   ],
   "source": [
    "print(\"Test Accuracy:\", accuracy)\n",
    "print(\"Test Precision:\", precision)\n",
    "print(\"Test Recall:\", recall)\n",
    "print(\"Test F1-Score:\", f1)\n"
   ]
  },
  {
   "cell_type": "code",
   "execution_count": 14,
   "id": "d72b7b5e-7b13-4111-af11-3d87b353741f",
   "metadata": {},
   "outputs": [
    {
     "name": "stderr",
     "output_type": "stream",
     "text": [
      "WARNING:absl:You are saving your model as an HDF5 file via `model.save()` or `keras.saving.save_model(model)`. This file format is considered legacy. We recommend using instead the native Keras format, e.g. `model.save('my_model.keras')` or `keras.saving.save_model(model, 'my_model.keras')`. \n"
     ]
    }
   ],
   "source": [
    "model.save('model_v0.h5')\n"
   ]
  }
 ],
 "metadata": {
  "kernelspec": {
   "display_name": "Python 3 (ipykernel)",
   "language": "python",
   "name": "python3"
  },
  "language_info": {
   "codemirror_mode": {
    "name": "ipython",
    "version": 3
   },
   "file_extension": ".py",
   "mimetype": "text/x-python",
   "name": "python",
   "nbconvert_exporter": "python",
   "pygments_lexer": "ipython3",
   "version": "3.12.4"
  }
 },
 "nbformat": 4,
 "nbformat_minor": 5
}
