{
 "cells": [
  {
   "cell_type": "code",
   "execution_count": 1,
   "id": "73001e51-eef5-4892-b93f-6fec716fef28",
   "metadata": {},
   "outputs": [],
   "source": [
    "#!pip install SpeechRecognition"
   ]
  },
  {
   "cell_type": "code",
   "execution_count": 2,
   "id": "df409d38-b29e-43f1-adb0-1536e97f9367",
   "metadata": {},
   "outputs": [],
   "source": [
    "#!pip install pyaudio"
   ]
  },
  {
   "cell_type": "code",
   "execution_count": 3,
   "id": "0eeabc85-f83d-4f8a-8b2d-0170626b5c0b",
   "metadata": {},
   "outputs": [],
   "source": [
    "import speech_recognition as sr"
   ]
  },
  {
   "cell_type": "code",
   "execution_count": 4,
   "id": "0f9ef243-b937-4591-8db8-fd49be0d8554",
   "metadata": {},
   "outputs": [],
   "source": [
    "# Initialize recognizer\n",
    "recognizer = sr.Recognizer()\n",
    "\n",
    "\n"
   ]
  },
  {
   "cell_type": "code",
   "execution_count": 5,
   "id": "f25d5d86-853b-4456-87d2-7272559c8e6d",
   "metadata": {},
   "outputs": [
    {
     "name": "stdout",
     "output_type": "stream",
     "text": [
      "Adjusting for ambient noise, please wait...\n",
      "Listening...\n",
      "Recognizing speech...\n",
      "Text: hello myself Avinash and I hope you understand everything that I have studied and I have learnt and I am going to apply everything here and I am a boy my class name is\n"
     ]
    }
   ],
   "source": [
    "# Use the microphone as the audio source\n",
    "with sr.Microphone() as source:\n",
    "    print(\"Adjusting for ambient noise, please wait...\")\n",
    "    recognizer.adjust_for_ambient_noise(source, duration=1)  # Adjusts for background noise\n",
    "    print(\"Listening...\")\n",
    "    \n",
    "    # Listen to the user's speech\n",
    "    audio = recognizer.listen(source)\n",
    "    \n",
    "    try:\n",
    "        # Recognize the speech using Google Web Speech API\n",
    "        print(\"Recognizing speech...\")\n",
    "        text = recognizer.recognize_google(audio)\n",
    "        print(f\"Text: {text}\")\n",
    "        \n",
    "    except sr.UnknownValueError:\n",
    "        print(\"Sorry, I could not understand the audio.\")\n",
    "        \n",
    "    except sr.RequestError:\n",
    "        print(\"Could not request results from the speech recognition service.\")"
   ]
  },
  {
   "cell_type": "code",
   "execution_count": null,
   "id": "43a5af61-a7c9-4da2-a8b1-f5b38a809fe6",
   "metadata": {},
   "outputs": [],
   "source": []
  },
  {
   "cell_type": "code",
   "execution_count": null,
   "id": "c78b38c6-24cc-4ba7-9716-bdccbb1a872f",
   "metadata": {},
   "outputs": [],
   "source": []
  }
 ],
 "metadata": {
  "kernelspec": {
   "display_name": "Python 3 (ipykernel)",
   "language": "python",
   "name": "python3"
  },
  "language_info": {
   "codemirror_mode": {
    "name": "ipython",
    "version": 3
   },
   "file_extension": ".py",
   "mimetype": "text/x-python",
   "name": "python",
   "nbconvert_exporter": "python",
   "pygments_lexer": "ipython3",
   "version": "3.11.7"
  }
 },
 "nbformat": 4,
 "nbformat_minor": 5
}
